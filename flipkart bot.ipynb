{
 "cells": [
  {
   "cell_type": "code",
   "execution_count": 99,
   "metadata": {},
   "outputs": [],
   "source": [
    "from selenium import webdriver\n",
    "from selenium.webdriver.common.keys import Keys\n",
    "\n",
    "driver = webdriver.Chrome()"
   ]
  },
  {
   "cell_type": "code",
   "execution_count": 100,
   "metadata": {},
   "outputs": [],
   "source": [
    "driver.get('https://www.flipkart.com/ptron-hbe6-wired-headset-mic/p/itmf3vhcb9xmz7h7?pid=ACCEXZ2FGAFPFGEK&lid=LSTACCEXZ2FGAFPFGEKH0PSP3&marketplace=FLIPKART&srno=b_1_1&otracker=hp_omu_Deals%2Bof%2Bthe%2BDay_3_3VZU5LR9HJVL_0&fm=neo%2Fmerchandising&iid=f719cdc7-b74e-4eeb-ac44-fa04e9109e16.ACCEXZ2FGAFPFGEK.SEARCH&ppt=StoreBrowse&ppn=Store&ssid=l9ec2p58400000001547376310008')"
   ]
  },
  {
   "cell_type": "code",
   "execution_count": 101,
   "metadata": {},
   "outputs": [
    {
     "data": {
      "text/plain": [
       "'PTron HBE6 Wired Headset with Mic Price in India - Buy PTron HBE6 Wired Headset with Mic Online - PTron : Flipkart.com'"
      ]
     },
     "execution_count": 101,
     "metadata": {},
     "output_type": "execute_result"
    }
   ],
   "source": [
    "driver.title"
   ]
  },
  {
   "cell_type": "code",
   "execution_count": null,
   "metadata": {},
   "outputs": [],
   "source": []
  },
  {
   "cell_type": "code",
   "execution_count": 102,
   "metadata": {},
   "outputs": [],
   "source": [
    "pincode = driver.find_element_by_xpath('//*[@id=\"pincodeInputId\"]')\n",
    "pincode.clear()\n",
    "pincode.send_keys(\"474015\")\n",
    "pincode.send_keys(Keys.RETURN)"
   ]
  },
  {
   "cell_type": "code",
   "execution_count": 103,
   "metadata": {},
   "outputs": [
    {
     "name": "stdout",
     "output_type": "stream",
     "text": [
      "Usually delivered in3-4 days?\n"
     ]
    }
   ],
   "source": [
    "delivered_by = driver.find_element_by_xpath('//*[@id=\"container\"]/div/div[1]/div[2]/div/div[1]/div[2]/div[4]/div/div/div[2]/div[1]/ul/div/div')\n",
    "print(delivered_by.text)\n",
    "\n",
    "#for x in delivered_by:\n",
    "#    print (x.text)"
   ]
  },
  {
   "cell_type": "code",
   "execution_count": 98,
   "metadata": {},
   "outputs": [],
   "source": [
    "buy_now = driver.find_element_by_xpath('//*[@id=\"container\"]/div/div[1]/div[2]/div/div[1]/div[1]/div[2]/div/ul/li[2]/form/button')\n",
    "buy_now.send_keys(Keys.RETURN)"
   ]
  },
  {
   "cell_type": "code",
   "execution_count": null,
   "metadata": {},
   "outputs": [],
   "source": []
  }
 ],
 "metadata": {
  "kernelspec": {
   "display_name": "Python 3",
   "language": "python",
   "name": "python3"
  },
  "language_info": {
   "codemirror_mode": {
    "name": "ipython",
    "version": 3
   },
   "file_extension": ".py",
   "mimetype": "text/x-python",
   "name": "python",
   "nbconvert_exporter": "python",
   "pygments_lexer": "ipython3",
   "version": "3.6.6"
  }
 },
 "nbformat": 4,
 "nbformat_minor": 2
}
